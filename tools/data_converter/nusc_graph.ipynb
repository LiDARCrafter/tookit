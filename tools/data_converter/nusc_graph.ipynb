{
 "cells": [
  {
   "cell_type": "code",
   "execution_count": 1,
   "metadata": {},
   "outputs": [],
   "source": [
    "import numpy as np\n",
    "import pickle\n",
    "from pathlib import Path\n",
    "from tqdm import tqdm\n",
    "from pcdet.utils.box_utils import mask_boxes_outside_range_numpy\n",
    "DATA_ROOT = '/home/alan/AlanLiang/Dataset/pcdet_Nuscenes/v1.0-trainval'"
   ]
  },
  {
   "cell_type": "code",
   "execution_count": 2,
   "metadata": {},
   "outputs": [],
   "source": [
    "KEEP_NAMES = ['car','truck', 'construction_vehicle', 'bus', 'trailer', 'motorcycle', 'bicycle', 'pedestrian']\n",
    "RELATIONSHIPS = [\n",
    "    'left',\n",
    "    'right',\n",
    "    'front',\n",
    "    'behind',\n",
    "    'close by',\n",
    "    'bigger than',\n",
    "    'smaller than',\n",
    "    'taller than',\n",
    "    'shorter than',\n",
    "]"
   ]
  },
  {
   "cell_type": "code",
   "execution_count": 3,
   "metadata": {},
   "outputs": [],
   "source": [
    "def cal_box_relationships(subject_box, object_box, ego=False):\n",
    "    pair_relationships = []\n",
    "    s_y = subject_box[1]\n",
    "    o_y = object_box[1]\n",
    "    # front and behind\n",
    "    if s_y >= o_y:\n",
    "        pair_relationships.append('front')\n",
    "    else:\n",
    "        pair_relationships.append('behind')\n",
    "\n",
    "    s_x = subject_box[0]\n",
    "    o_x = object_box[0]\n",
    "    # right and left\n",
    "    if s_x >= o_x:\n",
    "        pair_relationships.append('right')\n",
    "    else:\n",
    "        pair_relationships.append('left')\n",
    "\n",
    "    # distance\n",
    "    distance = np.sqrt((s_y-o_y)**2 + (s_x-o_x)**2)\n",
    "    if distance < 4:\n",
    "        pair_relationships.append('close by')\n",
    "\n",
    "    # big and small\n",
    "    if not ego:\n",
    "        v_s = subject_box[3] * subject_box[4] * subject_box[5]\n",
    "        v_o = object_box[3] * object_box[4] * object_box[5]\n",
    "        if v_s >= v_o:\n",
    "            pair_relationships.append('bigger than')\n",
    "        else:\n",
    "            pair_relationships.append('smaller than')\n",
    "\n",
    "    # taller and shorter\n",
    "    if not ego:\n",
    "        height_s = subject_box[2] + subject_box[5]  / 2\n",
    "        height_o = object_box[2] + object_box[5]  / 2\n",
    "    else:\n",
    "        height_s = subject_box[2]\n",
    "        height_o = 0\n",
    "        \n",
    "    if height_s >= height_o:\n",
    "        pair_relationships.append('taller than')\n",
    "    else:\n",
    "        pair_relationships.append('shorter than')\n",
    "        \n",
    "    return pair_relationships"
   ]
  },
  {
   "cell_type": "code",
   "execution_count": 4,
   "metadata": {},
   "outputs": [],
   "source": [
    "def save_data_info_for_scene_graph(data_infos):\n",
    "    scene_graph_infos = []\n",
    "    for i in tqdm(range(len(data_infos))):\n",
    "        info = data_infos[i]\n",
    "        # filter objects\n",
    "        box_range_mask = mask_boxes_outside_range_numpy(\n",
    "            info['gt_boxes'], [-80,-80,-8,80,80,8]\n",
    "        )\n",
    "        gt_names = info['gt_names'][box_range_mask]\n",
    "        num_lidar_pts = info['num_lidar_pts'][box_range_mask]\n",
    "        gt_boxes = info['gt_boxes'][box_range_mask]\n",
    "\n",
    "        gt_names_mask = [cat in KEEP_NAMES for cat in gt_names]\n",
    "        pts_mask = [num > 30 for num in num_lidar_pts]\n",
    "        mask = [x and y for x, y in zip(gt_names_mask, pts_mask)]\n",
    "        if np.bool_(mask).sum()==0:\n",
    "            continue\n",
    "        keep_box_names = gt_names[np.bool_(mask)]\n",
    "        keep_box = gt_boxes[np.bool_(mask)]\n",
    "\n",
    "        matrix_mask = [\n",
    "        [(i != j) for j in range(keep_box_names.shape[0])]\n",
    "        for i in range(keep_box_names.shape[0])\n",
    "        ]\n",
    "        matrix_mask = np.bool_(matrix_mask)\n",
    "        keep_box_relationships = []\n",
    "        for i in range(matrix_mask.shape[0]):\n",
    "            for j in range(matrix_mask.shape[0]):\n",
    "                if matrix_mask[i,j]:\n",
    "                    subject_box = keep_box[i]\n",
    "                    object_box = keep_box[j]\n",
    "                    relationships = cal_box_relationships(subject_box, object_box)\n",
    "                    for rela in relationships:\n",
    "                        keep_box_relationships.append([i+1, RELATIONSHIPS.index(rela), j+1])\n",
    "                    matrix_mask[j,i] = False\n",
    "                else:\n",
    "                    continue\n",
    "        # ego\n",
    "        ego_box = np.zeros([9])\n",
    "        for i in range(matrix_mask.shape[0]):\n",
    "            subject_box = keep_box[i]\n",
    "            relationships = cal_box_relationships(subject_box, ego_box, ego=True)\n",
    "            for rela in relationships:\n",
    "                keep_box_relationships.append([i+1, RELATIONSHIPS.index(rela), 0])\n",
    "\n",
    "        info.update({\n",
    "            'scene_graph': {\n",
    "                'lidar_path': info['lidar_path'],\n",
    "                'keep_box_names': keep_box_names,\n",
    "                'keep_box': keep_box,\n",
    "                'keep_box_relationships': keep_box_relationships\n",
    "            }\n",
    "        })\n",
    "        scene_graph_infos.append(info)\n",
    "    return scene_graph_infos"
   ]
  },
  {
   "cell_type": "code",
   "execution_count": 6,
   "metadata": {},
   "outputs": [
    {
     "name": "stderr",
     "output_type": "stream",
     "text": [
      "100%|██████████| 28130/28130 [00:04<00:00, 6028.62it/s] \n"
     ]
    }
   ],
   "source": [
    "# load train .pkl \n",
    "pkl_file_path = Path(DATA_ROOT) / 'nuscenes_infos_16sweeps_train.pkl'\n",
    "with open(pkl_file_path, 'rb') as f:\n",
    "    data_infos = pickle.load(f)\n",
    "scene_data_infos = save_data_info_for_scene_graph(data_infos)\n",
    "with open(Path(DATA_ROOT) / f'nuscenes_infos_train_lidargen.pkl', 'wb') as f:\n",
    "    pickle.dump(scene_data_infos, f)"
   ]
  },
  {
   "cell_type": "code",
   "execution_count": 7,
   "metadata": {},
   "outputs": [
    {
     "name": "stderr",
     "output_type": "stream",
     "text": [
      "100%|██████████| 6019/6019 [00:00<00:00, 12295.03it/s]\n"
     ]
    }
   ],
   "source": [
    "# load train .pkl \n",
    "pkl_file_path = Path(DATA_ROOT) / 'nuscenes_infos_16sweeps_val.pkl'\n",
    "with open(pkl_file_path, 'rb') as f:\n",
    "    data_infos = pickle.load(f)\n",
    "scene_data_infos = save_data_info_for_scene_graph(data_infos)\n",
    "with open(Path(DATA_ROOT) / f'nuscenes_infos_val_lidargen.pkl', 'wb') as f:\n",
    "    pickle.dump(scene_data_infos, f)"
   ]
  },
  {
   "cell_type": "code",
   "execution_count": null,
   "metadata": {},
   "outputs": [],
   "source": []
  },
  {
   "cell_type": "code",
   "execution_count": null,
   "metadata": {},
   "outputs": [],
   "source": []
  }
 ],
 "metadata": {
  "kernelspec": {
   "display_name": "openmmlab",
   "language": "python",
   "name": "python3"
  },
  "language_info": {
   "codemirror_mode": {
    "name": "ipython",
    "version": 3
   },
   "file_extension": ".py",
   "mimetype": "text/x-python",
   "name": "python",
   "nbconvert_exporter": "python",
   "pygments_lexer": "ipython3",
   "version": "3.9.20"
  }
 },
 "nbformat": 4,
 "nbformat_minor": 2
}
